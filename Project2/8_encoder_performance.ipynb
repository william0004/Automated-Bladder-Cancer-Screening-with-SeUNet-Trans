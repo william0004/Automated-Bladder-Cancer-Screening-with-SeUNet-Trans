{
 "cells": [
  {
   "cell_type": "markdown",
   "id": "30ab9cb2",
   "metadata": {},
   "source": [
    "# Import libraries"
   ]
  },
  {
   "cell_type": "code",
   "execution_count": 1,
   "id": "d267b273",
   "metadata": {},
   "outputs": [
    {
     "name": "stderr",
     "output_type": "stream",
     "text": [
      "c:\\Users\\JOKER\\AppData\\Local\\Programs\\Python\\Python311\\Lib\\site-packages\\tqdm\\auto.py:21: TqdmWarning: IProgress not found. Please update jupyter and ipywidgets. See https://ipywidgets.readthedocs.io/en/stable/user_install.html\n",
      "  from .autonotebook import tqdm as notebook_tqdm\n"
     ]
    }
   ],
   "source": [
    "from semseg_functions import train_model, make_predictions\n",
    "from matplotlib import pyplot as plt\n",
    "import seaborn as sns\n",
    "import numpy as np\n",
    "import pandas as pd\n",
    "import torch\n",
    "from sklearn.model_selection import train_test_split"
   ]
  },
  {
   "cell_type": "markdown",
   "id": "69baf367",
   "metadata": {},
   "source": [
    "# Load Data"
   ]
  },
  {
   "cell_type": "code",
   "execution_count": 2,
   "id": "cad26821",
   "metadata": {},
   "outputs": [],
   "source": [
    "urothelial_cells=pd.read_pickle(\"urothelial_cell_toy_data.pkl\")\n",
    "images=np.transpose(urothelial_cells[\"X\"].numpy()*255,(0,2,3,1)).astype(np.uint8)\n",
    "labels=urothelial_cells[\"y\"]\n",
    "\n",
    "X_train,X_val,Y_train,Y_val=train_test_split(\n",
    "  images,labels,\n",
    "  test_size=0.2,\n",
    "  stratify=labels.mean((1,2))>=np.median(labels.mean((1,2))),\n",
    "  random_state=42\n",
    "  )\n",
    "\n",
    "X_train,X_val,Y_train,Y_val=(\n",
    "  torch.FloatTensor(X_train).permute((0,3,1,2)),\n",
    "  torch.FloatTensor(X_val).permute((0,3,1,2)),\n",
    "  torch.LongTensor(Y_train),\n",
    "  torch.LongTensor(Y_val)\n",
    "  )"
   ]
  },
  {
   "cell_type": "markdown",
   "id": "3e694284",
   "metadata": {},
   "source": [
    "# Define Calculation"
   ]
  },
  {
   "cell_type": "code",
   "execution_count": 3,
   "id": "17f8118b",
   "metadata": {},
   "outputs": [],
   "source": [
    "def dice_score(preds, targets, num_classes=3):\n",
    "    scores = []\n",
    "    preds = torch.argmax(torch.tensor(preds), dim=1).numpy()\n",
    "    for cls in range(num_classes):\n",
    "        pred_cls = (preds == cls).astype(int)\n",
    "        true_cls = (targets.numpy() == cls).astype(int)\n",
    "        intersection = (pred_cls * true_cls).sum()\n",
    "        union = pred_cls.sum() + true_cls.sum()\n",
    "        score = (2. * intersection) / (union + 1e-6)\n",
    "        scores.append(score)\n",
    "    return scores"
   ]
  },
  {
   "cell_type": "markdown",
   "id": "0c72356f",
   "metadata": {},
   "source": [
    "# Train and Predict"
   ]
  },
  {
   "cell_type": "code",
   "execution_count": 4,
   "id": "d1781b62",
   "metadata": {},
   "outputs": [
    {
     "name": "stdout",
     "output_type": "stream",
     "text": [
      "model= seunettrans. Using Combo Loss and Lower Learning Rate\n",
      "Model: seunettrans, Encoder: resnet18. Training: Epoch 1, Batch 0, Loss: 3.093\n",
      "Model: seunettrans, Encoder: resnet18. Training: Epoch 1, Batch 1, Loss: 2.947\n",
      "Model: seunettrans, Encoder: resnet18. Training: Epoch 1, Batch 2, Loss: 3.273\n",
      "Model: seunettrans, Encoder: resnet18. Training: Epoch 1, Batch 3, Loss: 2.804\n",
      "Model: seunettrans, Encoder: resnet18. Training: Epoch 1, Batch 4, Loss: 2.62\n",
      "Model: seunettrans, Encoder: resnet18. Training: Epoch 1, Batch 5, Loss: 2.49\n",
      "Model: seunettrans, Encoder: resnet18. Training: Epoch 1, Batch 6, Loss: 2.608\n",
      "Model: seunettrans, Encoder: resnet18. Training: Epoch 1, Batch 7, Loss: 2.45\n",
      "Model: seunettrans, Encoder: resnet18. Training: Epoch 1, Batch 8, Loss: 2.389\n",
      "Model: seunettrans, Encoder: resnet18. Training: Epoch 1, Batch 9, Loss: 2.221\n",
      "Model: seunettrans, Encoder: resnet18. Training: Epoch 1, Batch 10, Loss: 2.171\n",
      "Model: seunettrans, Encoder: resnet18. Training: Epoch 1, Batch 11, Loss: 2.025\n",
      "Model: seunettrans, Encoder: resnet18. Training: Epoch 1, Batch 12, Loss: 1.772\n",
      "Model: seunettrans, Encoder: resnet18. Training: Epoch 1, Batch 13, Loss: 1.64\n",
      "Model: seunettrans, Encoder: resnet18. Training: Epoch 1, Batch 14, Loss: 1.561\n",
      "Model: seunettrans, Encoder: resnet18. Training: Epoch 1, Batch 15, Loss: 1.186\n",
      "Val: Epoch 1, Loss: 2.636\n",
      "Model: seunettrans, Encoder: resnet18. Training: Epoch 2, Batch 0, Loss: 1.866\n",
      "Model: seunettrans, Encoder: resnet18. Training: Epoch 2, Batch 1, Loss: 1.176\n",
      "Model: seunettrans, Encoder: resnet18. Training: Epoch 2, Batch 2, Loss: 1.199\n",
      "Model: seunettrans, Encoder: resnet18. Training: Epoch 2, Batch 3, Loss: 1.314\n",
      "Model: seunettrans, Encoder: resnet18. Training: Epoch 2, Batch 4, Loss: 1.231\n",
      "Model: seunettrans, Encoder: resnet18. Training: Epoch 2, Batch 5, Loss: 1.025\n",
      "Model: seunettrans, Encoder: resnet18. Training: Epoch 2, Batch 6, Loss: 1.169\n",
      "Model: seunettrans, Encoder: resnet18. Training: Epoch 2, Batch 7, Loss: 1.028\n",
      "Model: seunettrans, Encoder: resnet18. Training: Epoch 2, Batch 8, Loss: 1.157\n",
      "Model: seunettrans, Encoder: resnet18. Training: Epoch 2, Batch 9, Loss: 1.093\n",
      "Model: seunettrans, Encoder: resnet18. Training: Epoch 2, Batch 10, Loss: 0.871\n",
      "Model: seunettrans, Encoder: resnet18. Training: Epoch 2, Batch 11, Loss: 1.097\n",
      "Model: seunettrans, Encoder: resnet18. Training: Epoch 2, Batch 12, Loss: 0.906\n",
      "Model: seunettrans, Encoder: resnet18. Training: Epoch 2, Batch 13, Loss: 1.007\n",
      "Model: seunettrans, Encoder: resnet18. Training: Epoch 2, Batch 14, Loss: 0.848\n",
      "Model: seunettrans, Encoder: resnet18. Training: Epoch 2, Batch 15, Loss: 0.893\n",
      "Val: Epoch 2, Loss: 0.939\n",
      "Model: seunettrans, Encoder: resnet18. Training: Epoch 3, Batch 0, Loss: 1.072\n",
      "Model: seunettrans, Encoder: resnet18. Training: Epoch 3, Batch 1, Loss: 0.933\n",
      "Model: seunettrans, Encoder: resnet18. Training: Epoch 3, Batch 2, Loss: 0.991\n",
      "Model: seunettrans, Encoder: resnet18. Training: Epoch 3, Batch 3, Loss: 0.929\n",
      "Model: seunettrans, Encoder: resnet18. Training: Epoch 3, Batch 4, Loss: 0.726\n",
      "Model: seunettrans, Encoder: resnet18. Training: Epoch 3, Batch 5, Loss: 0.758\n",
      "Model: seunettrans, Encoder: resnet18. Training: Epoch 3, Batch 6, Loss: 0.801\n",
      "Model: seunettrans, Encoder: resnet18. Training: Epoch 3, Batch 7, Loss: 0.692\n",
      "Model: seunettrans, Encoder: resnet18. Training: Epoch 3, Batch 8, Loss: 0.68\n",
      "Model: seunettrans, Encoder: resnet18. Training: Epoch 3, Batch 9, Loss: 0.776\n",
      "Model: seunettrans, Encoder: resnet18. Training: Epoch 3, Batch 10, Loss: 0.72\n",
      "Model: seunettrans, Encoder: resnet18. Training: Epoch 3, Batch 11, Loss: 0.708\n",
      "Model: seunettrans, Encoder: resnet18. Training: Epoch 3, Batch 12, Loss: 0.673\n",
      "Model: seunettrans, Encoder: resnet18. Training: Epoch 3, Batch 13, Loss: 0.605\n",
      "Model: seunettrans, Encoder: resnet18. Training: Epoch 3, Batch 14, Loss: 0.583\n",
      "Model: seunettrans, Encoder: resnet18. Training: Epoch 3, Batch 15, Loss: 0.583\n",
      "Val: Epoch 3, Loss: 0.633\n",
      "Model: seunettrans, Encoder: resnet18. Training: Epoch 4, Batch 0, Loss: 0.669\n",
      "Model: seunettrans, Encoder: resnet18. Training: Epoch 4, Batch 1, Loss: 0.547\n",
      "Model: seunettrans, Encoder: resnet18. Training: Epoch 4, Batch 2, Loss: 0.669\n",
      "Model: seunettrans, Encoder: resnet18. Training: Epoch 4, Batch 3, Loss: 0.564\n",
      "Model: seunettrans, Encoder: resnet18. Training: Epoch 4, Batch 4, Loss: 0.562\n",
      "Model: seunettrans, Encoder: resnet18. Training: Epoch 4, Batch 5, Loss: 0.538\n",
      "Model: seunettrans, Encoder: resnet18. Training: Epoch 4, Batch 6, Loss: 0.562\n",
      "Model: seunettrans, Encoder: resnet18. Training: Epoch 4, Batch 7, Loss: 0.553\n",
      "Model: seunettrans, Encoder: resnet18. Training: Epoch 4, Batch 8, Loss: 0.501\n",
      "Model: seunettrans, Encoder: resnet18. Training: Epoch 4, Batch 9, Loss: 0.495\n",
      "Model: seunettrans, Encoder: resnet18. Training: Epoch 4, Batch 10, Loss: 0.427\n",
      "Model: seunettrans, Encoder: resnet18. Training: Epoch 4, Batch 11, Loss: 0.424\n",
      "Model: seunettrans, Encoder: resnet18. Training: Epoch 4, Batch 12, Loss: 0.431\n",
      "Model: seunettrans, Encoder: resnet18. Training: Epoch 4, Batch 13, Loss: 0.425\n",
      "Model: seunettrans, Encoder: resnet18. Training: Epoch 4, Batch 14, Loss: 0.396\n",
      "Model: seunettrans, Encoder: resnet18. Training: Epoch 4, Batch 15, Loss: 0.433\n",
      "Val: Epoch 4, Loss: 0.405\n",
      "Model: seunettrans, Encoder: resnet18. Training: Epoch 5, Batch 0, Loss: 0.345\n",
      "Model: seunettrans, Encoder: resnet18. Training: Epoch 5, Batch 1, Loss: 0.337\n",
      "Model: seunettrans, Encoder: resnet18. Training: Epoch 5, Batch 2, Loss: 0.378\n",
      "Model: seunettrans, Encoder: resnet18. Training: Epoch 5, Batch 3, Loss: 0.413\n",
      "Model: seunettrans, Encoder: resnet18. Training: Epoch 5, Batch 4, Loss: 0.31\n",
      "Model: seunettrans, Encoder: resnet18. Training: Epoch 5, Batch 5, Loss: 0.338\n",
      "Model: seunettrans, Encoder: resnet18. Training: Epoch 5, Batch 6, Loss: 0.341\n",
      "Model: seunettrans, Encoder: resnet18. Training: Epoch 5, Batch 7, Loss: 0.329\n",
      "Model: seunettrans, Encoder: resnet18. Training: Epoch 5, Batch 8, Loss: 0.273\n",
      "Model: seunettrans, Encoder: resnet18. Training: Epoch 5, Batch 9, Loss: 0.375\n",
      "Model: seunettrans, Encoder: resnet18. Training: Epoch 5, Batch 10, Loss: 0.356\n",
      "Model: seunettrans, Encoder: resnet18. Training: Epoch 5, Batch 11, Loss: 0.327\n",
      "Model: seunettrans, Encoder: resnet18. Training: Epoch 5, Batch 12, Loss: 0.383\n",
      "Model: seunettrans, Encoder: resnet18. Training: Epoch 5, Batch 13, Loss: 0.417\n",
      "Model: seunettrans, Encoder: resnet18. Training: Epoch 5, Batch 14, Loss: 0.431\n",
      "Model: seunettrans, Encoder: resnet18. Training: Epoch 5, Batch 15, Loss: 0.349\n",
      "Val: Epoch 5, Loss: 0.425\n",
      "Model: seunettrans, Encoder: resnet18. Training: Epoch 6, Batch 0, Loss: 0.389\n",
      "Model: seunettrans, Encoder: resnet18. Training: Epoch 6, Batch 1, Loss: 0.386\n",
      "Model: seunettrans, Encoder: resnet18. Training: Epoch 6, Batch 2, Loss: 0.393\n",
      "Model: seunettrans, Encoder: resnet18. Training: Epoch 6, Batch 3, Loss: 0.362\n",
      "Model: seunettrans, Encoder: resnet18. Training: Epoch 6, Batch 4, Loss: 0.294\n",
      "Model: seunettrans, Encoder: resnet18. Training: Epoch 6, Batch 5, Loss: 0.283\n",
      "Model: seunettrans, Encoder: resnet18. Training: Epoch 6, Batch 6, Loss: 0.315\n",
      "Model: seunettrans, Encoder: resnet18. Training: Epoch 6, Batch 7, Loss: 0.327\n",
      "Model: seunettrans, Encoder: resnet18. Training: Epoch 6, Batch 8, Loss: 0.347\n",
      "Model: seunettrans, Encoder: resnet18. Training: Epoch 6, Batch 9, Loss: 0.312\n",
      "Model: seunettrans, Encoder: resnet18. Training: Epoch 6, Batch 10, Loss: 0.25\n",
      "Model: seunettrans, Encoder: resnet18. Training: Epoch 6, Batch 11, Loss: 0.267\n",
      "Model: seunettrans, Encoder: resnet18. Training: Epoch 6, Batch 12, Loss: 0.306\n",
      "Model: seunettrans, Encoder: resnet18. Training: Epoch 6, Batch 13, Loss: 0.315\n",
      "Model: seunettrans, Encoder: resnet18. Training: Epoch 6, Batch 14, Loss: 0.307\n",
      "Model: seunettrans, Encoder: resnet18. Training: Epoch 6, Batch 15, Loss: 0.283\n",
      "Val: Epoch 6, Loss: 0.286\n",
      "Model: seunettrans, Encoder: resnet18. Training: Epoch 7, Batch 0, Loss: 0.281\n",
      "Model: seunettrans, Encoder: resnet18. Training: Epoch 7, Batch 1, Loss: 0.304\n",
      "Model: seunettrans, Encoder: resnet18. Training: Epoch 7, Batch 2, Loss: 0.267\n",
      "Model: seunettrans, Encoder: resnet18. Training: Epoch 7, Batch 3, Loss: 0.32\n",
      "Model: seunettrans, Encoder: resnet18. Training: Epoch 7, Batch 4, Loss: 0.273\n",
      "Model: seunettrans, Encoder: resnet18. Training: Epoch 7, Batch 5, Loss: 0.279\n",
      "Model: seunettrans, Encoder: resnet18. Training: Epoch 7, Batch 6, Loss: 0.295\n",
      "Model: seunettrans, Encoder: resnet18. Training: Epoch 7, Batch 7, Loss: 0.264\n",
      "Model: seunettrans, Encoder: resnet18. Training: Epoch 7, Batch 8, Loss: 0.292\n",
      "Model: seunettrans, Encoder: resnet18. Training: Epoch 7, Batch 9, Loss: 0.244\n",
      "Model: seunettrans, Encoder: resnet18. Training: Epoch 7, Batch 10, Loss: 0.315\n",
      "Model: seunettrans, Encoder: resnet18. Training: Epoch 7, Batch 11, Loss: 0.261\n",
      "Model: seunettrans, Encoder: resnet18. Training: Epoch 7, Batch 12, Loss: 0.34\n"
     ]
    },
    {
     "ename": "KeyboardInterrupt",
     "evalue": "",
     "output_type": "error",
     "traceback": [
      "\u001b[1;31m---------------------------------------------------------------------------\u001b[0m",
      "\u001b[1;31mKeyboardInterrupt\u001b[0m                         Traceback (most recent call last)",
      "Cell \u001b[1;32mIn[4], line 7\u001b[0m\n\u001b[0;32m      4\u001b[0m results \u001b[38;5;241m=\u001b[39m []\n\u001b[0;32m      6\u001b[0m \u001b[38;5;28;01mfor\u001b[39;00m encoder \u001b[38;5;129;01min\u001b[39;00m encoders:\n\u001b[1;32m----> 7\u001b[0m     model, training_loss, validation_loss \u001b[38;5;241m=\u001b[39m \u001b[43mtrain_model\u001b[49m\u001b[43m(\u001b[49m\u001b[43mX_train\u001b[49m\u001b[43m,\u001b[49m\u001b[43m \u001b[49m\u001b[43mY_train\u001b[49m\u001b[43m,\u001b[49m\u001b[43m \u001b[49m\u001b[43mX_val\u001b[49m\u001b[43m,\u001b[49m\u001b[43m \u001b[49m\u001b[43mY_val\u001b[49m\u001b[43m,\u001b[49m\u001b[43m \u001b[49m\u001b[43mmodel_key\u001b[49m\u001b[38;5;241;43m=\u001b[39;49m\u001b[43mmodel_key\u001b[49m\u001b[43m,\u001b[49m\u001b[43m \u001b[49m\u001b[43mencoder_name\u001b[49m\u001b[38;5;241;43m=\u001b[39;49m\u001b[43mencoder\u001b[49m\u001b[43m,\u001b[49m\u001b[43m \u001b[49m\u001b[43mn_epochs\u001b[49m\u001b[38;5;241;43m=\u001b[39;49m\u001b[38;5;241;43m50\u001b[39;49m\u001b[43m)\u001b[49m\n\u001b[0;32m      8\u001b[0m     preds \u001b[38;5;241m=\u001b[39m make_predictions(X_val, model\u001b[38;5;241m=\u001b[39mmodel, model_key\u001b[38;5;241m=\u001b[39mmodel_key, encoder_name\u001b[38;5;241m=\u001b[39mencoder)\n\u001b[0;32m     10\u001b[0m     dice \u001b[38;5;241m=\u001b[39m dice_score(preds, Y_val)\n",
      "File \u001b[1;32mg:\\study\\CSC 590 Master Project\\Automated Bladder Cancer Screening with Deep Learning Algorithms\\Cedars_AI_Campus_Tutorials\\Project2\\semseg_functions.py:114\u001b[0m, in \u001b[0;36mtrain_model\u001b[1;34m(X_train, Y_train, X_val, Y_val, save, n_epochs, model_key, encoder_name, path_dir, device)\u001b[0m\n\u001b[0;32m    110\u001b[0m model\u001b[38;5;241m.\u001b[39mtrain(\u001b[38;5;28;01mTrue\u001b[39;00m)\n\u001b[0;32m    112\u001b[0m epoch_training_loss \u001b[38;5;241m=\u001b[39m []\n\u001b[1;32m--> 114\u001b[0m \u001b[43m\u001b[49m\u001b[38;5;28;43;01mfor\u001b[39;49;00m\u001b[43m \u001b[49m\u001b[43mi\u001b[49m\u001b[43m,\u001b[49m\u001b[43m(\u001b[49m\u001b[43mx\u001b[49m\u001b[43m,\u001b[49m\u001b[43my_true\u001b[49m\u001b[43m)\u001b[49m\u001b[43m \u001b[49m\u001b[38;5;129;43;01min\u001b[39;49;00m\u001b[43m \u001b[49m\u001b[38;5;28;43menumerate\u001b[39;49m\u001b[43m(\u001b[49m\u001b[43mtrain_dataloader\u001b[49m\u001b[43m)\u001b[49m\u001b[43m:\u001b[49m\n\u001b[0;32m    115\u001b[0m \u001b[43m    \u001b[49m\u001b[43mx\u001b[49m\u001b[43m,\u001b[49m\u001b[43m \u001b[49m\u001b[43my_true\u001b[49m\u001b[43m \u001b[49m\u001b[38;5;241;43m=\u001b[39;49m\u001b[43m \u001b[49m\u001b[43mx\u001b[49m\u001b[38;5;241;43m.\u001b[39;49m\u001b[43mto\u001b[49m\u001b[43m(\u001b[49m\u001b[43mdevice\u001b[49m\u001b[43m)\u001b[49m\u001b[43m,\u001b[49m\u001b[43m \u001b[49m\u001b[43my_true\u001b[49m\u001b[38;5;241;43m.\u001b[39;49m\u001b[43mto\u001b[49m\u001b[43m(\u001b[49m\u001b[43mdevice\u001b[49m\u001b[43m)\u001b[49m\n\u001b[0;32m    116\u001b[0m \u001b[43m    \u001b[49m\u001b[43moptimizer\u001b[49m\u001b[38;5;241;43m.\u001b[39;49m\u001b[43mzero_grad\u001b[49m\u001b[43m(\u001b[49m\u001b[43m)\u001b[49m\n",
      "File \u001b[1;32mc:\\Users\\JOKER\\AppData\\Local\\Programs\\Python\\Python311\\Lib\\site-packages\\torch\\utils\\data\\dataloader.py:708\u001b[0m, in \u001b[0;36m_BaseDataLoaderIter.__next__\u001b[1;34m(self)\u001b[0m\n\u001b[0;32m    705\u001b[0m \u001b[38;5;28;01mif\u001b[39;00m \u001b[38;5;28mself\u001b[39m\u001b[38;5;241m.\u001b[39m_sampler_iter \u001b[38;5;129;01mis\u001b[39;00m \u001b[38;5;28;01mNone\u001b[39;00m:\n\u001b[0;32m    706\u001b[0m     \u001b[38;5;66;03m# TODO(https://github.com/pytorch/pytorch/issues/76750)\u001b[39;00m\n\u001b[0;32m    707\u001b[0m     \u001b[38;5;28mself\u001b[39m\u001b[38;5;241m.\u001b[39m_reset()  \u001b[38;5;66;03m# type: ignore[call-arg]\u001b[39;00m\n\u001b[1;32m--> 708\u001b[0m data \u001b[38;5;241m=\u001b[39m \u001b[38;5;28;43mself\u001b[39;49m\u001b[38;5;241;43m.\u001b[39;49m\u001b[43m_next_data\u001b[49m\u001b[43m(\u001b[49m\u001b[43m)\u001b[49m\n\u001b[0;32m    709\u001b[0m \u001b[38;5;28mself\u001b[39m\u001b[38;5;241m.\u001b[39m_num_yielded \u001b[38;5;241m+\u001b[39m\u001b[38;5;241m=\u001b[39m \u001b[38;5;241m1\u001b[39m\n\u001b[0;32m    710\u001b[0m \u001b[38;5;28;01mif\u001b[39;00m (\n\u001b[0;32m    711\u001b[0m     \u001b[38;5;28mself\u001b[39m\u001b[38;5;241m.\u001b[39m_dataset_kind \u001b[38;5;241m==\u001b[39m _DatasetKind\u001b[38;5;241m.\u001b[39mIterable\n\u001b[0;32m    712\u001b[0m     \u001b[38;5;129;01mand\u001b[39;00m \u001b[38;5;28mself\u001b[39m\u001b[38;5;241m.\u001b[39m_IterableDataset_len_called \u001b[38;5;129;01mis\u001b[39;00m \u001b[38;5;129;01mnot\u001b[39;00m \u001b[38;5;28;01mNone\u001b[39;00m\n\u001b[0;32m    713\u001b[0m     \u001b[38;5;129;01mand\u001b[39;00m \u001b[38;5;28mself\u001b[39m\u001b[38;5;241m.\u001b[39m_num_yielded \u001b[38;5;241m>\u001b[39m \u001b[38;5;28mself\u001b[39m\u001b[38;5;241m.\u001b[39m_IterableDataset_len_called\n\u001b[0;32m    714\u001b[0m ):\n",
      "File \u001b[1;32mc:\\Users\\JOKER\\AppData\\Local\\Programs\\Python\\Python311\\Lib\\site-packages\\torch\\utils\\data\\dataloader.py:764\u001b[0m, in \u001b[0;36m_SingleProcessDataLoaderIter._next_data\u001b[1;34m(self)\u001b[0m\n\u001b[0;32m    762\u001b[0m \u001b[38;5;28;01mdef\u001b[39;00m\u001b[38;5;250m \u001b[39m\u001b[38;5;21m_next_data\u001b[39m(\u001b[38;5;28mself\u001b[39m):\n\u001b[0;32m    763\u001b[0m     index \u001b[38;5;241m=\u001b[39m \u001b[38;5;28mself\u001b[39m\u001b[38;5;241m.\u001b[39m_next_index()  \u001b[38;5;66;03m# may raise StopIteration\u001b[39;00m\n\u001b[1;32m--> 764\u001b[0m     data \u001b[38;5;241m=\u001b[39m \u001b[38;5;28;43mself\u001b[39;49m\u001b[38;5;241;43m.\u001b[39;49m\u001b[43m_dataset_fetcher\u001b[49m\u001b[38;5;241;43m.\u001b[39;49m\u001b[43mfetch\u001b[49m\u001b[43m(\u001b[49m\u001b[43mindex\u001b[49m\u001b[43m)\u001b[49m  \u001b[38;5;66;03m# may raise StopIteration\u001b[39;00m\n\u001b[0;32m    765\u001b[0m     \u001b[38;5;28;01mif\u001b[39;00m \u001b[38;5;28mself\u001b[39m\u001b[38;5;241m.\u001b[39m_pin_memory:\n\u001b[0;32m    766\u001b[0m         data \u001b[38;5;241m=\u001b[39m _utils\u001b[38;5;241m.\u001b[39mpin_memory\u001b[38;5;241m.\u001b[39mpin_memory(data, \u001b[38;5;28mself\u001b[39m\u001b[38;5;241m.\u001b[39m_pin_memory_device)\n",
      "File \u001b[1;32mc:\\Users\\JOKER\\AppData\\Local\\Programs\\Python\\Python311\\Lib\\site-packages\\torch\\utils\\data\\_utils\\fetch.py:55\u001b[0m, in \u001b[0;36m_MapDatasetFetcher.fetch\u001b[1;34m(self, possibly_batched_index)\u001b[0m\n\u001b[0;32m     53\u001b[0m \u001b[38;5;28;01melse\u001b[39;00m:\n\u001b[0;32m     54\u001b[0m     data \u001b[38;5;241m=\u001b[39m \u001b[38;5;28mself\u001b[39m\u001b[38;5;241m.\u001b[39mdataset[possibly_batched_index]\n\u001b[1;32m---> 55\u001b[0m \u001b[38;5;28;01mreturn\u001b[39;00m \u001b[38;5;28;43mself\u001b[39;49m\u001b[38;5;241;43m.\u001b[39;49m\u001b[43mcollate_fn\u001b[49m\u001b[43m(\u001b[49m\u001b[43mdata\u001b[49m\u001b[43m)\u001b[49m\n",
      "File \u001b[1;32mc:\\Users\\JOKER\\AppData\\Local\\Programs\\Python\\Python311\\Lib\\site-packages\\torch\\utils\\data\\_utils\\collate.py:398\u001b[0m, in \u001b[0;36mdefault_collate\u001b[1;34m(batch)\u001b[0m\n\u001b[0;32m    337\u001b[0m \u001b[38;5;28;01mdef\u001b[39;00m\u001b[38;5;250m \u001b[39m\u001b[38;5;21mdefault_collate\u001b[39m(batch):\n\u001b[0;32m    338\u001b[0m \u001b[38;5;250m    \u001b[39m\u001b[38;5;124mr\u001b[39m\u001b[38;5;124;03m\"\"\"\u001b[39;00m\n\u001b[0;32m    339\u001b[0m \u001b[38;5;124;03m    Take in a batch of data and put the elements within the batch into a tensor with an additional outer dimension - batch size.\u001b[39;00m\n\u001b[0;32m    340\u001b[0m \n\u001b[1;32m   (...)\u001b[0m\n\u001b[0;32m    396\u001b[0m \u001b[38;5;124;03m        >>> default_collate(batch)  # Handle `CustomType` automatically\u001b[39;00m\n\u001b[0;32m    397\u001b[0m \u001b[38;5;124;03m    \"\"\"\u001b[39;00m\n\u001b[1;32m--> 398\u001b[0m     \u001b[38;5;28;01mreturn\u001b[39;00m \u001b[43mcollate\u001b[49m\u001b[43m(\u001b[49m\u001b[43mbatch\u001b[49m\u001b[43m,\u001b[49m\u001b[43m \u001b[49m\u001b[43mcollate_fn_map\u001b[49m\u001b[38;5;241;43m=\u001b[39;49m\u001b[43mdefault_collate_fn_map\u001b[49m\u001b[43m)\u001b[49m\n",
      "File \u001b[1;32mc:\\Users\\JOKER\\AppData\\Local\\Programs\\Python\\Python311\\Lib\\site-packages\\torch\\utils\\data\\_utils\\collate.py:211\u001b[0m, in \u001b[0;36mcollate\u001b[1;34m(batch, collate_fn_map)\u001b[0m\n\u001b[0;32m    208\u001b[0m transposed \u001b[38;5;241m=\u001b[39m \u001b[38;5;28mlist\u001b[39m(\u001b[38;5;28mzip\u001b[39m(\u001b[38;5;241m*\u001b[39mbatch))  \u001b[38;5;66;03m# It may be accessed twice, so we use a list.\u001b[39;00m\n\u001b[0;32m    210\u001b[0m \u001b[38;5;28;01mif\u001b[39;00m \u001b[38;5;28misinstance\u001b[39m(elem, \u001b[38;5;28mtuple\u001b[39m):\n\u001b[1;32m--> 211\u001b[0m     \u001b[38;5;28;01mreturn\u001b[39;00m \u001b[43m[\u001b[49m\n\u001b[0;32m    212\u001b[0m \u001b[43m        \u001b[49m\u001b[43mcollate\u001b[49m\u001b[43m(\u001b[49m\u001b[43msamples\u001b[49m\u001b[43m,\u001b[49m\u001b[43m \u001b[49m\u001b[43mcollate_fn_map\u001b[49m\u001b[38;5;241;43m=\u001b[39;49m\u001b[43mcollate_fn_map\u001b[49m\u001b[43m)\u001b[49m\n\u001b[0;32m    213\u001b[0m \u001b[43m        \u001b[49m\u001b[38;5;28;43;01mfor\u001b[39;49;00m\u001b[43m \u001b[49m\u001b[43msamples\u001b[49m\u001b[43m \u001b[49m\u001b[38;5;129;43;01min\u001b[39;49;00m\u001b[43m \u001b[49m\u001b[43mtransposed\u001b[49m\n\u001b[0;32m    214\u001b[0m \u001b[43m    \u001b[49m\u001b[43m]\u001b[49m  \u001b[38;5;66;03m# Backwards compatibility.\u001b[39;00m\n\u001b[0;32m    215\u001b[0m \u001b[38;5;28;01melse\u001b[39;00m:\n\u001b[0;32m    216\u001b[0m     \u001b[38;5;28;01mtry\u001b[39;00m:\n",
      "File \u001b[1;32mc:\\Users\\JOKER\\AppData\\Local\\Programs\\Python\\Python311\\Lib\\site-packages\\torch\\utils\\data\\_utils\\collate.py:212\u001b[0m, in \u001b[0;36m<listcomp>\u001b[1;34m(.0)\u001b[0m\n\u001b[0;32m    208\u001b[0m transposed \u001b[38;5;241m=\u001b[39m \u001b[38;5;28mlist\u001b[39m(\u001b[38;5;28mzip\u001b[39m(\u001b[38;5;241m*\u001b[39mbatch))  \u001b[38;5;66;03m# It may be accessed twice, so we use a list.\u001b[39;00m\n\u001b[0;32m    210\u001b[0m \u001b[38;5;28;01mif\u001b[39;00m \u001b[38;5;28misinstance\u001b[39m(elem, \u001b[38;5;28mtuple\u001b[39m):\n\u001b[0;32m    211\u001b[0m     \u001b[38;5;28;01mreturn\u001b[39;00m [\n\u001b[1;32m--> 212\u001b[0m         \u001b[43mcollate\u001b[49m\u001b[43m(\u001b[49m\u001b[43msamples\u001b[49m\u001b[43m,\u001b[49m\u001b[43m \u001b[49m\u001b[43mcollate_fn_map\u001b[49m\u001b[38;5;241;43m=\u001b[39;49m\u001b[43mcollate_fn_map\u001b[49m\u001b[43m)\u001b[49m\n\u001b[0;32m    213\u001b[0m         \u001b[38;5;28;01mfor\u001b[39;00m samples \u001b[38;5;129;01min\u001b[39;00m transposed\n\u001b[0;32m    214\u001b[0m     ]  \u001b[38;5;66;03m# Backwards compatibility.\u001b[39;00m\n\u001b[0;32m    215\u001b[0m \u001b[38;5;28;01melse\u001b[39;00m:\n\u001b[0;32m    216\u001b[0m     \u001b[38;5;28;01mtry\u001b[39;00m:\n",
      "File \u001b[1;32mc:\\Users\\JOKER\\AppData\\Local\\Programs\\Python\\Python311\\Lib\\site-packages\\torch\\utils\\data\\_utils\\collate.py:155\u001b[0m, in \u001b[0;36mcollate\u001b[1;34m(batch, collate_fn_map)\u001b[0m\n\u001b[0;32m    153\u001b[0m \u001b[38;5;28;01mif\u001b[39;00m collate_fn_map \u001b[38;5;129;01mis\u001b[39;00m \u001b[38;5;129;01mnot\u001b[39;00m \u001b[38;5;28;01mNone\u001b[39;00m:\n\u001b[0;32m    154\u001b[0m     \u001b[38;5;28;01mif\u001b[39;00m elem_type \u001b[38;5;129;01min\u001b[39;00m collate_fn_map:\n\u001b[1;32m--> 155\u001b[0m         \u001b[38;5;28;01mreturn\u001b[39;00m \u001b[43mcollate_fn_map\u001b[49m\u001b[43m[\u001b[49m\u001b[43melem_type\u001b[49m\u001b[43m]\u001b[49m\u001b[43m(\u001b[49m\u001b[43mbatch\u001b[49m\u001b[43m,\u001b[49m\u001b[43m \u001b[49m\u001b[43mcollate_fn_map\u001b[49m\u001b[38;5;241;43m=\u001b[39;49m\u001b[43mcollate_fn_map\u001b[49m\u001b[43m)\u001b[49m\n\u001b[0;32m    157\u001b[0m     \u001b[38;5;28;01mfor\u001b[39;00m collate_type \u001b[38;5;129;01min\u001b[39;00m collate_fn_map:\n\u001b[0;32m    158\u001b[0m         \u001b[38;5;28;01mif\u001b[39;00m \u001b[38;5;28misinstance\u001b[39m(elem, collate_type):\n",
      "File \u001b[1;32mc:\\Users\\JOKER\\AppData\\Local\\Programs\\Python\\Python311\\Lib\\site-packages\\torch\\utils\\data\\_utils\\collate.py:272\u001b[0m, in \u001b[0;36mcollate_tensor_fn\u001b[1;34m(batch, collate_fn_map)\u001b[0m\n\u001b[0;32m    270\u001b[0m     storage \u001b[38;5;241m=\u001b[39m elem\u001b[38;5;241m.\u001b[39m_typed_storage()\u001b[38;5;241m.\u001b[39m_new_shared(numel, device\u001b[38;5;241m=\u001b[39melem\u001b[38;5;241m.\u001b[39mdevice)\n\u001b[0;32m    271\u001b[0m     out \u001b[38;5;241m=\u001b[39m elem\u001b[38;5;241m.\u001b[39mnew(storage)\u001b[38;5;241m.\u001b[39mresize_(\u001b[38;5;28mlen\u001b[39m(batch), \u001b[38;5;241m*\u001b[39m\u001b[38;5;28mlist\u001b[39m(elem\u001b[38;5;241m.\u001b[39msize()))\n\u001b[1;32m--> 272\u001b[0m \u001b[38;5;28;01mreturn\u001b[39;00m \u001b[43mtorch\u001b[49m\u001b[38;5;241;43m.\u001b[39;49m\u001b[43mstack\u001b[49m\u001b[43m(\u001b[49m\u001b[43mbatch\u001b[49m\u001b[43m,\u001b[49m\u001b[43m \u001b[49m\u001b[38;5;241;43m0\u001b[39;49m\u001b[43m,\u001b[49m\u001b[43m \u001b[49m\u001b[43mout\u001b[49m\u001b[38;5;241;43m=\u001b[39;49m\u001b[43mout\u001b[49m\u001b[43m)\u001b[49m\n",
      "\u001b[1;31mKeyboardInterrupt\u001b[0m: "
     ]
    }
   ],
   "source": [
    "\n",
    "model_key = \"seunettrans\" \n",
    "# Training with mit_b3 encoder will take a very long time and perform not as well as others, so we can skip it if needed.\n",
    "encoders = [\"resnet18\", \"resnet34\", \"resnet50\", \"resnet101\", \"resnext50_32x4d\", \"seresnet50\", \"densenet121\", \"mobilenet_v2\", \"efficientnet-b3\"] # \"mit_b3\"\n",
    "results = []\n",
    "\n",
    "for encoder in encoders:\n",
    "    model, training_loss, validation_loss = train_model(X_train, Y_train, X_val, Y_val, model_key=model_key, encoder_name=encoder, n_epochs=50)\n",
    "    preds = make_predictions(X_val, model=model, model_key=model_key, encoder_name=encoder)\n",
    "    \n",
    "    dice = dice_score(preds, Y_val)\n",
    "\n",
    "    results.append({\n",
    "        \"Encoder\": encoder,\n",
    "        \"Dice_0\": dice[0], \"Dice_1\": dice[1], \"Dice_2\": dice[2],\n",
    "    })"
   ]
  },
  {
   "cell_type": "markdown",
   "id": "dd38911d",
   "metadata": {},
   "source": [
    "# Table for Encoders Comparison"
   ]
  },
  {
   "cell_type": "code",
   "execution_count": null,
   "id": "ddb13f60",
   "metadata": {},
   "outputs": [
    {
     "data": {
      "text/html": [
       "<div>\n",
       "<style scoped>\n",
       "    .dataframe tbody tr th:only-of-type {\n",
       "        vertical-align: middle;\n",
       "    }\n",
       "\n",
       "    .dataframe tbody tr th {\n",
       "        vertical-align: top;\n",
       "    }\n",
       "\n",
       "    .dataframe thead th {\n",
       "        text-align: right;\n",
       "    }\n",
       "</style>\n",
       "<table border=\"1\" class=\"dataframe\">\n",
       "  <thead>\n",
       "    <tr style=\"text-align: right;\">\n",
       "      <th></th>\n",
       "      <th>Dice_0</th>\n",
       "      <th>Dice_1</th>\n",
       "      <th>Dice_2</th>\n",
       "    </tr>\n",
       "    <tr>\n",
       "      <th>Encoder</th>\n",
       "      <th></th>\n",
       "      <th></th>\n",
       "      <th></th>\n",
       "    </tr>\n",
       "  </thead>\n",
       "  <tbody>\n",
       "    <tr>\n",
       "      <th>resnet18</th>\n",
       "      <td>0.958552</td>\n",
       "      <td>0.878101</td>\n",
       "      <td>0.827524</td>\n",
       "    </tr>\n",
       "    <tr>\n",
       "      <th>resnet34</th>\n",
       "      <td>0.958529</td>\n",
       "      <td>0.889355</td>\n",
       "      <td>0.849262</td>\n",
       "    </tr>\n",
       "    <tr>\n",
       "      <th>resnet50</th>\n",
       "      <td>0.960551</td>\n",
       "      <td>0.887580</td>\n",
       "      <td>0.834618</td>\n",
       "    </tr>\n",
       "    <tr>\n",
       "      <th>resnet101</th>\n",
       "      <td>0.952545</td>\n",
       "      <td>0.874715</td>\n",
       "      <td>0.813469</td>\n",
       "    </tr>\n",
       "    <tr>\n",
       "      <th>resnext50_32x4d</th>\n",
       "      <td>0.956788</td>\n",
       "      <td>0.876323</td>\n",
       "      <td>0.825598</td>\n",
       "    </tr>\n",
       "    <tr>\n",
       "      <th>seresnet50</th>\n",
       "      <td>0.962706</td>\n",
       "      <td>0.891193</td>\n",
       "      <td>0.846394</td>\n",
       "    </tr>\n",
       "    <tr>\n",
       "      <th>densenet121</th>\n",
       "      <td>0.963450</td>\n",
       "      <td>0.891841</td>\n",
       "      <td>0.848692</td>\n",
       "    </tr>\n",
       "    <tr>\n",
       "      <th>mobilenet_v2</th>\n",
       "      <td>0.958357</td>\n",
       "      <td>0.854775</td>\n",
       "      <td>0.796424</td>\n",
       "    </tr>\n",
       "    <tr>\n",
       "      <th>efficientnet-b3</th>\n",
       "      <td>0.942524</td>\n",
       "      <td>0.845803</td>\n",
       "      <td>0.797176</td>\n",
       "    </tr>\n",
       "  </tbody>\n",
       "</table>\n",
       "</div>"
      ],
      "text/plain": [
       "                   Dice_0    Dice_1    Dice_2\n",
       "Encoder                                      \n",
       "resnet18         0.958552  0.878101  0.827524\n",
       "resnet34         0.958529  0.889355  0.849262\n",
       "resnet50         0.960551  0.887580  0.834618\n",
       "resnet101        0.952545  0.874715  0.813469\n",
       "resnext50_32x4d  0.956788  0.876323  0.825598\n",
       "seresnet50       0.962706  0.891193  0.846394\n",
       "densenet121      0.963450  0.891841  0.848692\n",
       "mobilenet_v2     0.958357  0.854775  0.796424\n",
       "efficientnet-b3  0.942524  0.845803  0.797176"
      ]
     },
     "metadata": {},
     "output_type": "display_data"
    }
   ],
   "source": [
    "results_df = pd.DataFrame(results)\n",
    "results_df.set_index(\"Encoder\", inplace=True)\n",
    "display(results_df)"
   ]
  },
  {
   "cell_type": "markdown",
   "id": "bf55cca5",
   "metadata": {},
   "source": [
    "# Bar Plots for Encoders Comparison"
   ]
  },
  {
   "cell_type": "code",
   "execution_count": null,
   "id": "ac2cd95e",
   "metadata": {},
   "outputs": [
    {
     "data": {
      "image/png": "[encoded data removed]",
      "text/plain": [
       "<Figure size 1400x600 with 1 Axes>"
      ]
     },
     "metadata": {},
     "output_type": "display_data"
    }
   ],
   "source": [
    "dice_cols = ['Dice_0', 'Dice_1', 'Dice_2']\n",
    "results_df[dice_cols].plot(kind='bar', figsize=(14, 6))\n",
    "plt.title(\"Dice Scores by Class\")\n",
    "plt.ylabel(\"Score\")\n",
    "plt.xlabel(\"Encoder\")\n",
    "plt.xticks(rotation=45)\n",
    "plt.legend(title=\"Class\")\n",
    "plt.grid(True)\n",
    "plt.tight_layout()\n",
    "plt.show()"
   ]
  }
 ],
 "metadata": {
  "kernelspec": {
   "display_name": "Python 3",
   "language": "python",
   "name": "python3"
  },
  "language_info": {
   "codemirror_mode": {
    "name": "ipython",
    "version": 3
   },
   "file_extension": ".py",
   "mimetype": "text/x-python",
   "name": "python",
   "nbconvert_exporter": "python",
   "pygments_lexer": "ipython3",
   "version": "3.11.8"
  }
 },
 "nbformat": 4,
 "nbformat_minor": 5
}
